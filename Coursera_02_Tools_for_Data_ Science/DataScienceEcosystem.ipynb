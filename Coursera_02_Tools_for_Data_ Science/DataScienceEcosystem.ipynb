{
  "nbformat": 4,
  "nbformat_minor": 0,
  "metadata": {
    "colab": {
      "provenance": []
    },
    "kernelspec": {
      "name": "python3",
      "display_name": "Python 3"
    },
    "language_info": {
      "name": "python"
    }
  },
  "cells": [
    {
      "cell_type": "markdown",
      "source": [
        "# Data Science Ecosystem"
      ],
      "metadata": {
        "id": "7l8llVgWcyTT"
      }
    },
    {
      "cell_type": "markdown",
      "source": [
        "## Author\n",
        "Carlo Figueroa"
      ],
      "metadata": {
        "id": "PxNIVcxVmIB7"
      }
    },
    {
      "cell_type": "markdown",
      "source": [
        "This notebook summarizes and demonstrates Data Science Tools and Ecosystems."
      ],
      "metadata": {
        "id": "3CFm-zNndmX8"
      }
    },
    {
      "cell_type": "markdown",
      "source": [
        "**Objectives**:\n",
        "* List of popular coding languages\n",
        "* List of widely used libraries\n",
        "  * Python libraries\n",
        "  * R libraries\n",
        "  * Java libraries\n",
        "* Few examples of evaluating arithmetic expressions in Python\n",
        "  * Muliplication and addition\n",
        "  * Division"
      ],
      "metadata": {
        "id": "pvvnnlgYkZmM"
      }
    },
    {
      "cell_type": "markdown",
      "source": [
        "Some popular coding languages data scientists use:\n",
        "1. Python\n",
        "2. SQL\n",
        "3. R\n",
        "4. Java\n",
        "5. Julia"
      ],
      "metadata": {
        "id": "iNeDcNYUeUyh"
      }
    },
    {
      "cell_type": "markdown",
      "source": [
        "Some widely utilized libraries data scientists use:\n",
        "\n",
        "**Python Libraries**:\n",
        "1. NumPy\n",
        "2. Pandas\n",
        "3. scikit-learn\n",
        "\n",
        "**R Libraries**:\n",
        "1. dplyr\n",
        "2. ggplot2\n",
        "3. caret\n",
        "\n",
        "**Java libraries**:\n",
        "1. Apache Spark\n",
        "2. Weka\n",
        "3. Apache Hadoop"
      ],
      "metadata": {
        "id": "VGcC8yNCfWuG"
      }
    },
    {
      "cell_type": "markdown",
      "source": [
        "| Data Science Tools |\n",
        "|--------------------|\n",
        "| Jupyter Notebooks  |\n",
        "| RStudio            |\n",
        "| Visual Studio Code |"
      ],
      "metadata": {
        "id": "pkR-XFYSiK9K"
      }
    },
    {
      "cell_type": "markdown",
      "source": [
        "### Few examples of evaluating arithmetic expressions in Python"
      ],
      "metadata": {
        "id": "GXaUYbULifzR"
      }
    },
    {
      "cell_type": "code",
      "execution_count": 1,
      "metadata": {
        "colab": {
          "base_uri": "https://localhost:8080/"
        },
        "id": "X6LBAdnbcuP2",
        "outputId": "ca133309-c0cd-48fb-e923-64c409793345"
      },
      "outputs": [
        {
          "output_type": "execute_result",
          "data": {
            "text/plain": [
              "17"
            ]
          },
          "metadata": {},
          "execution_count": 1
        }
      ],
      "source": [
        "# Following PEMDAS, this expression first multiplies then add the integers\n",
        "(3*4)+5"
      ]
    },
    {
      "cell_type": "code",
      "source": [
        "# This expression will convert 200 minutes to hours by diving by 60\n",
        "200/60"
      ],
      "metadata": {
        "colab": {
          "base_uri": "https://localhost:8080/"
        },
        "id": "O23oe_2RjynB",
        "outputId": "fa623cd9-abc8-4875-a54b-6b9a3e286533"
      },
      "execution_count": 2,
      "outputs": [
        {
          "output_type": "execute_result",
          "data": {
            "text/plain": [
              "3.3333333333333335"
            ]
          },
          "metadata": {},
          "execution_count": 2
        }
      ]
    }
  ]
}
